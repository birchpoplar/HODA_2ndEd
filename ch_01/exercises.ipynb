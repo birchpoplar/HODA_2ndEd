{
 "cells": [
  {
   "cell_type": "markdown",
   "metadata": {},
   "source": [
    "# Coding exercises\n",
    "Exercises 1-3 are thought exercises that don't require coding. If you need a Python crash-course/refresher, work through the [`python_101.ipynb`](./python_101.ipynb) notebook in chapter 1.\n",
    "\n",
    "## Exercise 4: Generate the data by running this cell\n",
    "This will give you a list of numbers to work with in the remaining exercises."
   ]
  },
  {
   "cell_type": "code",
   "execution_count": 27,
   "metadata": {},
   "outputs": [],
   "source": [
    "import random\n",
    "import numpy as np\n",
    "from collections import Counter\n",
    "import statistics as st\n",
    "\n",
    "random.seed(0)\n",
    "salaries = [round(random.random()*1000000, -3) for _ in range(100)]"
   ]
  },
  {
   "cell_type": "markdown",
   "metadata": {},
   "source": [
    "## Exercise 5: Calculating statistics and verifying\n",
    "### mean"
   ]
  },
  {
   "cell_type": "code",
   "execution_count": 2,
   "metadata": {},
   "outputs": [
    {
     "name": "stdout",
     "output_type": "stream",
     "text": [
      "Mean: 585690.0\n",
      "St Mean: 585690.0\n"
     ]
    }
   ],
   "source": [
    "mean = np.sum(salaries) / len(salaries)\n",
    "print(\"Mean: \" + str(mean))\n",
    "print(\"St Mean: \" + str(st.mean(salaries)))"
   ]
  },
  {
   "cell_type": "markdown",
   "metadata": {},
   "source": [
    "### median"
   ]
  },
  {
   "cell_type": "code",
   "execution_count": 3,
   "metadata": {},
   "outputs": [
    {
     "name": "stdout",
     "output_type": "stream",
     "text": [
      "Median: 589000.0\n",
      "St Median: 589000.0\n"
     ]
    }
   ],
   "source": [
    "salaries_sorted = np.sort(salaries)\n",
    "if len(salaries) % 2 == 0:\n",
    "    median = (salaries_sorted[int(len(salaries)/2)] + salaries_sorted[int(len(salaries)/2)-1]) / 2\n",
    "else:\n",
    "    median = (salaries_sorted[int(len(salaries)/2)]) # Not tested\n",
    "print(\"Median: \" + str(median))\n",
    "print(\"St Median: \" + str(st.median(salaries)))"
   ]
  },
  {
   "cell_type": "markdown",
   "metadata": {},
   "source": [
    "### mode"
   ]
  },
  {
   "cell_type": "code",
   "execution_count": 4,
   "metadata": {},
   "outputs": [
    {
     "name": "stdout",
     "output_type": "stream",
     "text": [
      "Mode: 477000.0\n",
      "St Mode: 477000.0\n"
     ]
    }
   ],
   "source": [
    "mode_list = Counter(salaries).most_common(1)\n",
    "print(\"Mode: \" + str(mode_list[0][0]))\n",
    "print(\"St Mode: \" + str(st.mode(salaries)))"
   ]
  },
  {
   "cell_type": "markdown",
   "metadata": {},
   "source": [
    "### sample variance\n",
    "Remember to use Bessel's correction."
   ]
  },
  {
   "cell_type": "code",
   "execution_count": 5,
   "metadata": {},
   "outputs": [
    {
     "name": "stdout",
     "output_type": "stream",
     "text": [
      "Variance: 70563669635.35353\n",
      "St Variance: 70664054444.44444\n"
     ]
    }
   ],
   "source": [
    "sum_diff_mean = 0\n",
    "for i in range(len(salaries)-1):\n",
    "    sum_diff_mean += np.square(salaries[i] - mean)\n",
    "variance = sum_diff_mean / (len(salaries) - 1)\n",
    "print(\"Variance: \" + str(variance))\n",
    "print(\"St Variance: \" + str(st.variance(salaries)))"
   ]
  },
  {
   "cell_type": "markdown",
   "metadata": {},
   "source": [
    "### sample standard deviation\n",
    "Remember to use Bessel's correction."
   ]
  },
  {
   "cell_type": "code",
   "execution_count": 6,
   "metadata": {},
   "outputs": [
    {
     "name": "stdout",
     "output_type": "stream",
     "text": [
      "Std Deviation: 265638.23074880155\n",
      "St Std Deviation: 265827.11382484\n"
     ]
    }
   ],
   "source": [
    "stdev = np.sqrt(variance)\n",
    "print(\"Std Deviation: \" + str(stdev))\n",
    "print(\"St Std Deviation: \" + str(st.stdev(salaries)))"
   ]
  },
  {
   "cell_type": "markdown",
   "metadata": {},
   "source": [
    "## Exercise 6: Calculating more statistics\n",
    "### range"
   ]
  },
  {
   "cell_type": "code",
   "execution_count": 7,
   "metadata": {},
   "outputs": [
    {
     "name": "stdout",
     "output_type": "stream",
     "text": [
      "Range: 995000.0\n"
     ]
    }
   ],
   "source": [
    "my_range = np.max(salaries) - np.min(salaries)\n",
    "print(\"Range: \" + str(my_range))"
   ]
  },
  {
   "cell_type": "markdown",
   "metadata": {},
   "source": [
    "### coefficient of variation\n",
    "Make sure to use the sample standard deviation."
   ]
  },
  {
   "cell_type": "code",
   "execution_count": 8,
   "metadata": {},
   "outputs": [
    {
     "name": "stdout",
     "output_type": "stream",
     "text": [
      "Coeff of Variation: 0.4535474922720237\n"
     ]
    }
   ],
   "source": [
    "coeff_var = stdev / mean\n",
    "print(\"Coeff of Variation: \" + str(coeff_var))"
   ]
  },
  {
   "cell_type": "markdown",
   "metadata": {},
   "source": [
    "### interquartile range"
   ]
  },
  {
   "cell_type": "code",
   "execution_count": 9,
   "metadata": {},
   "outputs": [
    {
     "name": "stdout",
     "output_type": "stream",
     "text": [
      "IQR: 413250.0\n"
     ]
    }
   ],
   "source": [
    "q3, q1 = np.percentile(salaries, [75 ,25])\n",
    "iqr = q3 - q1\n",
    "print(\"IQR: \" + str(iqr))"
   ]
  },
  {
   "cell_type": "markdown",
   "metadata": {},
   "source": [
    "### quartile coefficent of dispersion"
   ]
  },
  {
   "cell_type": "code",
   "execution_count": 10,
   "metadata": {},
   "outputs": [
    {
     "name": "stdout",
     "output_type": "stream",
     "text": [
      "QCD: 0.338660110633067\n"
     ]
    }
   ],
   "source": [
    "qcd = (q3 - q1) / (q3 + q1)\n",
    "print(\"QCD: \" + str(qcd))"
   ]
  },
  {
   "cell_type": "markdown",
   "metadata": {},
   "source": [
    "## Exercise 7: Scaling data\n",
    "### min-max scaling"
   ]
  },
  {
   "cell_type": "code",
   "execution_count": 15,
   "metadata": {},
   "outputs": [
    {
     "name": "stdout",
     "output_type": "stream",
     "text": [
      "MM Scaled Mean: 0.582753768844221 MM Scaled Variance: 0.07473858241004525\n"
     ]
    }
   ],
   "source": [
    "min_salaries = np.min(salaries)\n",
    "mmscaled_salaries = [0] * len(salaries)\n",
    "for i in range(len(salaries)-1):\n",
    "    mmscaled_salaries[i] = (salaries[i] - min_salaries) / my_range\n",
    "print(\"MM Scaled Mean: \" + str(np.mean(mmscaled_salaries)) + \" MM Scaled Variance: \" + str(st.variance(mmscaled_salaries)))"
   ]
  },
  {
   "cell_type": "markdown",
   "metadata": {},
   "source": [
    "### standardizing"
   ]
  },
  {
   "cell_type": "code",
   "execution_count": 19,
   "metadata": {},
   "outputs": [
    {
     "name": "stdout",
     "output_type": "stream",
     "text": [
      "Standardized Mean: 0.0037528483651990295 Standardized Variance: 0.999985773867826\n"
     ]
    }
   ],
   "source": [
    "std_salaries = [0] * len(salaries)\n",
    "for i in range(len(salaries)-1):\n",
    "    std_salaries[i] = (salaries[i] - mean) / stdev\n",
    "print(\"Standardized Mean: \" + str(np.mean(std_salaries)) + \" Standardized Variance: \" + str(st.variance(std_salaries)))"
   ]
  },
  {
   "cell_type": "markdown",
   "metadata": {},
   "source": [
    "## Exercise 8: Calculating covariance and correlation\n",
    "### covariance"
   ]
  },
  {
   "cell_type": "code",
   "execution_count": 34,
   "metadata": {},
   "outputs": [
    {
     "name": "stdout",
     "output_type": "stream",
     "text": [
      "Covariance: 0.26699157378395494\n"
     ]
    }
   ],
   "source": [
    "scaled_cov = np.cov(std_salaries, mmscaled_salaries)[1][0]\n",
    "print(\"Covariance: \" + str(scaled_cov))"
   ]
  },
  {
   "cell_type": "markdown",
   "metadata": {},
   "source": [
    "### Pearson correlation coefficient ($\\rho$)"
   ]
  },
  {
   "cell_type": "code",
   "execution_count": 37,
   "metadata": {},
   "outputs": [
    {
     "name": "stdout",
     "output_type": "stream",
     "text": [
      "Pearson Correlation Coefficient: 0.9766258524655959\n"
     ]
    }
   ],
   "source": [
    "pearson_corrcoeff = scaled_cov / (st.stdev(mmscaled_salaries) * st.stdev(std_salaries))\n",
    "print(\"Pearson Correlation Coefficient: \" + str(pearson_corrcoeff))"
   ]
  },
  {
   "cell_type": "markdown",
   "metadata": {},
   "source": [
    "<hr>\n",
    "<div style=\"overflow: hidden; margin-bottom: 10px;\">\n",
    "    <div style=\"float: left;\">\n",
    "        <a href=\"./python_101.ipynb\">\n",
    "            <button>Python 101</button>\n",
    "        </a>\n",
    "    </div>\n",
    "    <div style=\"float: right;\">\n",
    "        <a href=\"../../solutions/ch_01/solutions.ipynb\">\n",
    "            <button>Solutions</button>\n",
    "        </a>\n",
    "        <a href=\"../ch_02/1-pandas_data_structures.ipynb\">\n",
    "            <button>Chapter 2 &#8594;</button>\n",
    "        </a>\n",
    "    </div>\n",
    "</div>\n",
    "<hr>"
   ]
  }
 ],
 "metadata": {
  "kernelspec": {
   "display_name": "Python 3 (ipykernel)",
   "language": "python",
   "name": "python3"
  },
  "language_info": {
   "codemirror_mode": {
    "name": "ipython",
    "version": 3
   },
   "file_extension": ".py",
   "mimetype": "text/x-python",
   "name": "python",
   "nbconvert_exporter": "python",
   "pygments_lexer": "ipython3",
   "version": "3.8.16"
  }
 },
 "nbformat": 4,
 "nbformat_minor": 4
}
